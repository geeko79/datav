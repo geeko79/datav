import sqlite3
conn = sqlite3.connect("m4_survey_data.sqlite") # open a database connection
